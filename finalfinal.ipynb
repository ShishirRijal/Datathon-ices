{
 "cells": [
  {
   "cell_type": "code",
   "execution_count": 1,
   "metadata": {},
   "outputs": [],
   "source": [
    "import numpy as np\n",
    "import pandas as pd"
   ]
  },
  {
   "cell_type": "code",
   "execution_count": 2,
   "metadata": {},
   "outputs": [],
   "source": [
    "mainfile=pd.read_csv(\"Total Male and female voters per districts.csv\")"
   ]
  },
  {
   "cell_type": "code",
   "execution_count": 3,
   "metadata": {},
   "outputs": [
    {
     "data": {
      "text/html": [
       "<div>\n",
       "<style scoped>\n",
       "    .dataframe tbody tr th:only-of-type {\n",
       "        vertical-align: middle;\n",
       "    }\n",
       "\n",
       "    .dataframe tbody tr th {\n",
       "        vertical-align: top;\n",
       "    }\n",
       "\n",
       "    .dataframe thead th {\n",
       "        text-align: right;\n",
       "    }\n",
       "</style>\n",
       "<table border=\"1\" class=\"dataframe\">\n",
       "  <thead>\n",
       "    <tr style=\"text-align: right;\">\n",
       "      <th></th>\n",
       "      <th>District</th>\n",
       "      <th>Male</th>\n",
       "      <th>Female</th>\n",
       "      <th>Third Gender</th>\n",
       "      <th>Totall</th>\n",
       "    </tr>\n",
       "  </thead>\n",
       "  <tbody>\n",
       "    <tr>\n",
       "      <th>0</th>\n",
       "      <td>Achham</td>\n",
       "      <td>60441</td>\n",
       "      <td>67299</td>\n",
       "      <td>2</td>\n",
       "      <td>127742</td>\n",
       "    </tr>\n",
       "    <tr>\n",
       "      <th>1</th>\n",
       "      <td>Arghakhanchi</td>\n",
       "      <td>60296</td>\n",
       "      <td>66403</td>\n",
       "      <td>0</td>\n",
       "      <td>126699</td>\n",
       "    </tr>\n",
       "    <tr>\n",
       "      <th>2</th>\n",
       "      <td>Baglung</td>\n",
       "      <td>73963</td>\n",
       "      <td>82839</td>\n",
       "      <td>0</td>\n",
       "      <td>156802</td>\n",
       "    </tr>\n",
       "    <tr>\n",
       "      <th>3</th>\n",
       "      <td>Baitadi</td>\n",
       "      <td>60227</td>\n",
       "      <td>64596</td>\n",
       "      <td>1</td>\n",
       "      <td>124824</td>\n",
       "    </tr>\n",
       "    <tr>\n",
       "      <th>4</th>\n",
       "      <td>Bajhang</td>\n",
       "      <td>47888</td>\n",
       "      <td>49721</td>\n",
       "      <td>1</td>\n",
       "      <td>97610</td>\n",
       "    </tr>\n",
       "    <tr>\n",
       "      <th>...</th>\n",
       "      <td>...</td>\n",
       "      <td>...</td>\n",
       "      <td>...</td>\n",
       "      <td>...</td>\n",
       "      <td>...</td>\n",
       "    </tr>\n",
       "    <tr>\n",
       "      <th>75</th>\n",
       "      <td>Tanahu</td>\n",
       "      <td>90144</td>\n",
       "      <td>3104327</td>\n",
       "      <td>0</td>\n",
       "      <td>194471</td>\n",
       "    </tr>\n",
       "    <tr>\n",
       "      <th>76</th>\n",
       "      <td>Taplejung</td>\n",
       "      <td>37187</td>\n",
       "      <td>33591</td>\n",
       "      <td>0</td>\n",
       "      <td>70778</td>\n",
       "    </tr>\n",
       "    <tr>\n",
       "      <th>77</th>\n",
       "      <td>Terhathum</td>\n",
       "      <td>30334</td>\n",
       "      <td>30370</td>\n",
       "      <td>0</td>\n",
       "      <td>60704</td>\n",
       "    </tr>\n",
       "    <tr>\n",
       "      <th>78</th>\n",
       "      <td>Udayapur</td>\n",
       "      <td>88510</td>\n",
       "      <td>86951</td>\n",
       "      <td>0</td>\n",
       "      <td>175461</td>\n",
       "    </tr>\n",
       "    <tr>\n",
       "      <th>79</th>\n",
       "      <td>Total</td>\n",
       "      <td>7069714</td>\n",
       "      <td>6984625</td>\n",
       "      <td>143</td>\n",
       "      <td>14054482</td>\n",
       "    </tr>\n",
       "  </tbody>\n",
       "</table>\n",
       "<p>80 rows × 5 columns</p>\n",
       "</div>"
      ],
      "text/plain": [
       "        District     Male   Female  Third Gender    Totall\n",
       "0         Achham    60441    67299             2    127742\n",
       "1   Arghakhanchi    60296    66403             0    126699\n",
       "2        Baglung    73963    82839             0    156802\n",
       "3        Baitadi    60227    64596             1    124824\n",
       "4        Bajhang    47888    49721             1     97610\n",
       "..           ...      ...      ...           ...       ...\n",
       "75        Tanahu    90144  3104327             0    194471\n",
       "76     Taplejung    37187    33591             0     70778\n",
       "77     Terhathum    30334    30370             0     60704\n",
       "78      Udayapur    88510    86951             0    175461\n",
       "79         Total  7069714  6984625           143  14054482\n",
       "\n",
       "[80 rows x 5 columns]"
      ]
     },
     "execution_count": 3,
     "metadata": {},
     "output_type": "execute_result"
    }
   ],
   "source": [
    "mainfile"
   ]
  },
  {
   "cell_type": "code",
   "execution_count": 4,
   "metadata": {},
   "outputs": [
    {
     "data": {
      "text/html": [
       "<div>\n",
       "<style scoped>\n",
       "    .dataframe tbody tr th:only-of-type {\n",
       "        vertical-align: middle;\n",
       "    }\n",
       "\n",
       "    .dataframe tbody tr th {\n",
       "        vertical-align: top;\n",
       "    }\n",
       "\n",
       "    .dataframe thead th {\n",
       "        text-align: right;\n",
       "    }\n",
       "</style>\n",
       "<table border=\"1\" class=\"dataframe\">\n",
       "  <thead>\n",
       "    <tr style=\"text-align: right;\">\n",
       "      <th></th>\n",
       "      <th>District</th>\n",
       "      <th>Male</th>\n",
       "      <th>Female</th>\n",
       "      <th>Third Gender</th>\n",
       "      <th>Totall</th>\n",
       "    </tr>\n",
       "  </thead>\n",
       "  <tbody>\n",
       "    <tr>\n",
       "      <th>24</th>\n",
       "      <td>Gulmi</td>\n",
       "      <td>0</td>\n",
       "      <td>94759</td>\n",
       "      <td>1</td>\n",
       "      <td>180775</td>\n",
       "    </tr>\n",
       "  </tbody>\n",
       "</table>\n",
       "</div>"
      ],
      "text/plain": [
       "   District  Male  Female  Third Gender  Totall\n",
       "24    Gulmi     0   94759             1  180775"
      ]
     },
     "execution_count": 4,
     "metadata": {},
     "output_type": "execute_result"
    }
   ],
   "source": [
    "mainfile.loc[mainfile['Male'] == 0]"
   ]
  },
  {
   "cell_type": "code",
   "execution_count": 5,
   "metadata": {},
   "outputs": [],
   "source": [
    "import numpy as np"
   ]
  },
  {
   "cell_type": "code",
   "execution_count": 6,
   "metadata": {},
   "outputs": [
    {
     "ename": "ValueError",
     "evalue": "invalid literal for int() with base 10: '????'",
     "output_type": "error",
     "traceback": [
      "\u001b[1;31m---------------------------------------------------------------------------\u001b[0m",
      "\u001b[1;31mValueError\u001b[0m                                Traceback (most recent call last)",
      "Cell \u001b[1;32mIn [6], line 1\u001b[0m\n\u001b[1;32m----> 1\u001b[0m mainfile[\u001b[39m'\u001b[39;49m\u001b[39mTotall\u001b[39;49m\u001b[39m'\u001b[39;49m]\u001b[39m.\u001b[39;49mastype(np\u001b[39m.\u001b[39;49mint64)\n",
      "File \u001b[1;32mc:\\Users\\Sandesh\\AppData\\Local\\Programs\\Python\\Python310\\lib\\site-packages\\pandas\\core\\generic.py:6245\u001b[0m, in \u001b[0;36mNDFrame.astype\u001b[1;34m(self, dtype, copy, errors)\u001b[0m\n\u001b[0;32m   6238\u001b[0m     results \u001b[39m=\u001b[39m [\n\u001b[0;32m   6239\u001b[0m         \u001b[39mself\u001b[39m\u001b[39m.\u001b[39miloc[:, i]\u001b[39m.\u001b[39mastype(dtype, copy\u001b[39m=\u001b[39mcopy)\n\u001b[0;32m   6240\u001b[0m         \u001b[39mfor\u001b[39;00m i \u001b[39min\u001b[39;00m \u001b[39mrange\u001b[39m(\u001b[39mlen\u001b[39m(\u001b[39mself\u001b[39m\u001b[39m.\u001b[39mcolumns))\n\u001b[0;32m   6241\u001b[0m     ]\n\u001b[0;32m   6243\u001b[0m \u001b[39melse\u001b[39;00m:\n\u001b[0;32m   6244\u001b[0m     \u001b[39m# else, only a single dtype is given\u001b[39;00m\n\u001b[1;32m-> 6245\u001b[0m     new_data \u001b[39m=\u001b[39m \u001b[39mself\u001b[39;49m\u001b[39m.\u001b[39;49m_mgr\u001b[39m.\u001b[39;49mastype(dtype\u001b[39m=\u001b[39;49mdtype, copy\u001b[39m=\u001b[39;49mcopy, errors\u001b[39m=\u001b[39;49merrors)\n\u001b[0;32m   6246\u001b[0m     \u001b[39mreturn\u001b[39;00m \u001b[39mself\u001b[39m\u001b[39m.\u001b[39m_constructor(new_data)\u001b[39m.\u001b[39m__finalize__(\u001b[39mself\u001b[39m, method\u001b[39m=\u001b[39m\u001b[39m\"\u001b[39m\u001b[39mastype\u001b[39m\u001b[39m\"\u001b[39m)\n\u001b[0;32m   6248\u001b[0m \u001b[39m# GH 33113: handle empty frame or series\u001b[39;00m\n",
      "File \u001b[1;32mc:\\Users\\Sandesh\\AppData\\Local\\Programs\\Python\\Python310\\lib\\site-packages\\pandas\\core\\internals\\managers.py:446\u001b[0m, in \u001b[0;36mBaseBlockManager.astype\u001b[1;34m(self, dtype, copy, errors)\u001b[0m\n\u001b[0;32m    445\u001b[0m \u001b[39mdef\u001b[39;00m \u001b[39mastype\u001b[39m(\u001b[39mself\u001b[39m: T, dtype, copy: \u001b[39mbool\u001b[39m \u001b[39m=\u001b[39m \u001b[39mFalse\u001b[39;00m, errors: \u001b[39mstr\u001b[39m \u001b[39m=\u001b[39m \u001b[39m\"\u001b[39m\u001b[39mraise\u001b[39m\u001b[39m\"\u001b[39m) \u001b[39m-\u001b[39m\u001b[39m>\u001b[39m T:\n\u001b[1;32m--> 446\u001b[0m     \u001b[39mreturn\u001b[39;00m \u001b[39mself\u001b[39;49m\u001b[39m.\u001b[39;49mapply(\u001b[39m\"\u001b[39;49m\u001b[39mastype\u001b[39;49m\u001b[39m\"\u001b[39;49m, dtype\u001b[39m=\u001b[39;49mdtype, copy\u001b[39m=\u001b[39;49mcopy, errors\u001b[39m=\u001b[39;49merrors)\n",
      "File \u001b[1;32mc:\\Users\\Sandesh\\AppData\\Local\\Programs\\Python\\Python310\\lib\\site-packages\\pandas\\core\\internals\\managers.py:348\u001b[0m, in \u001b[0;36mBaseBlockManager.apply\u001b[1;34m(self, f, align_keys, ignore_failures, **kwargs)\u001b[0m\n\u001b[0;32m    346\u001b[0m         applied \u001b[39m=\u001b[39m b\u001b[39m.\u001b[39mapply(f, \u001b[39m*\u001b[39m\u001b[39m*\u001b[39mkwargs)\n\u001b[0;32m    347\u001b[0m     \u001b[39melse\u001b[39;00m:\n\u001b[1;32m--> 348\u001b[0m         applied \u001b[39m=\u001b[39m \u001b[39mgetattr\u001b[39m(b, f)(\u001b[39m*\u001b[39m\u001b[39m*\u001b[39mkwargs)\n\u001b[0;32m    349\u001b[0m \u001b[39mexcept\u001b[39;00m (\u001b[39mTypeError\u001b[39;00m, \u001b[39mNotImplementedError\u001b[39;00m):\n\u001b[0;32m    350\u001b[0m     \u001b[39mif\u001b[39;00m \u001b[39mnot\u001b[39;00m ignore_failures:\n",
      "File \u001b[1;32mc:\\Users\\Sandesh\\AppData\\Local\\Programs\\Python\\Python310\\lib\\site-packages\\pandas\\core\\internals\\blocks.py:527\u001b[0m, in \u001b[0;36mBlock.astype\u001b[1;34m(self, dtype, copy, errors)\u001b[0m\n\u001b[0;32m    509\u001b[0m \u001b[39m\"\"\"\u001b[39;00m\n\u001b[0;32m    510\u001b[0m \u001b[39mCoerce to the new dtype.\u001b[39;00m\n\u001b[0;32m    511\u001b[0m \n\u001b[1;32m   (...)\u001b[0m\n\u001b[0;32m    523\u001b[0m \u001b[39mBlock\u001b[39;00m\n\u001b[0;32m    524\u001b[0m \u001b[39m\"\"\"\u001b[39;00m\n\u001b[0;32m    525\u001b[0m values \u001b[39m=\u001b[39m \u001b[39mself\u001b[39m\u001b[39m.\u001b[39mvalues\n\u001b[1;32m--> 527\u001b[0m new_values \u001b[39m=\u001b[39m astype_array_safe(values, dtype, copy\u001b[39m=\u001b[39;49mcopy, errors\u001b[39m=\u001b[39;49merrors)\n\u001b[0;32m    529\u001b[0m new_values \u001b[39m=\u001b[39m maybe_coerce_values(new_values)\n\u001b[0;32m    530\u001b[0m newb \u001b[39m=\u001b[39m \u001b[39mself\u001b[39m\u001b[39m.\u001b[39mmake_block(new_values)\n",
      "File \u001b[1;32mc:\\Users\\Sandesh\\AppData\\Local\\Programs\\Python\\Python310\\lib\\site-packages\\pandas\\core\\dtypes\\astype.py:299\u001b[0m, in \u001b[0;36mastype_array_safe\u001b[1;34m(values, dtype, copy, errors)\u001b[0m\n\u001b[0;32m    296\u001b[0m     \u001b[39mreturn\u001b[39;00m values\u001b[39m.\u001b[39mcopy()\n\u001b[0;32m    298\u001b[0m \u001b[39mtry\u001b[39;00m:\n\u001b[1;32m--> 299\u001b[0m     new_values \u001b[39m=\u001b[39m astype_array(values, dtype, copy\u001b[39m=\u001b[39;49mcopy)\n\u001b[0;32m    300\u001b[0m \u001b[39mexcept\u001b[39;00m (\u001b[39mValueError\u001b[39;00m, \u001b[39mTypeError\u001b[39;00m):\n\u001b[0;32m    301\u001b[0m     \u001b[39m# e.g. astype_nansafe can fail on object-dtype of strings\u001b[39;00m\n\u001b[0;32m    302\u001b[0m     \u001b[39m#  trying to convert to float\u001b[39;00m\n\u001b[0;32m    303\u001b[0m     \u001b[39mif\u001b[39;00m errors \u001b[39m==\u001b[39m \u001b[39m\"\u001b[39m\u001b[39mignore\u001b[39m\u001b[39m\"\u001b[39m:\n",
      "File \u001b[1;32mc:\\Users\\Sandesh\\AppData\\Local\\Programs\\Python\\Python310\\lib\\site-packages\\pandas\\core\\dtypes\\astype.py:230\u001b[0m, in \u001b[0;36mastype_array\u001b[1;34m(values, dtype, copy)\u001b[0m\n\u001b[0;32m    227\u001b[0m     values \u001b[39m=\u001b[39m values\u001b[39m.\u001b[39mastype(dtype, copy\u001b[39m=\u001b[39mcopy)\n\u001b[0;32m    229\u001b[0m \u001b[39melse\u001b[39;00m:\n\u001b[1;32m--> 230\u001b[0m     values \u001b[39m=\u001b[39m astype_nansafe(values, dtype, copy\u001b[39m=\u001b[39;49mcopy)\n\u001b[0;32m    232\u001b[0m \u001b[39m# in pandas we don't store numpy str dtypes, so convert to object\u001b[39;00m\n\u001b[0;32m    233\u001b[0m \u001b[39mif\u001b[39;00m \u001b[39misinstance\u001b[39m(dtype, np\u001b[39m.\u001b[39mdtype) \u001b[39mand\u001b[39;00m \u001b[39missubclass\u001b[39m(values\u001b[39m.\u001b[39mdtype\u001b[39m.\u001b[39mtype, \u001b[39mstr\u001b[39m):\n",
      "File \u001b[1;32mc:\\Users\\Sandesh\\AppData\\Local\\Programs\\Python\\Python310\\lib\\site-packages\\pandas\\core\\dtypes\\astype.py:170\u001b[0m, in \u001b[0;36mastype_nansafe\u001b[1;34m(arr, dtype, copy, skipna)\u001b[0m\n\u001b[0;32m    166\u001b[0m     \u001b[39mraise\u001b[39;00m \u001b[39mValueError\u001b[39;00m(msg)\n\u001b[0;32m    168\u001b[0m \u001b[39mif\u001b[39;00m copy \u001b[39mor\u001b[39;00m is_object_dtype(arr\u001b[39m.\u001b[39mdtype) \u001b[39mor\u001b[39;00m is_object_dtype(dtype):\n\u001b[0;32m    169\u001b[0m     \u001b[39m# Explicit copy, or required since NumPy can't view from / to object.\u001b[39;00m\n\u001b[1;32m--> 170\u001b[0m     \u001b[39mreturn\u001b[39;00m arr\u001b[39m.\u001b[39;49mastype(dtype, copy\u001b[39m=\u001b[39;49m\u001b[39mTrue\u001b[39;49;00m)\n\u001b[0;32m    172\u001b[0m \u001b[39mreturn\u001b[39;00m arr\u001b[39m.\u001b[39mastype(dtype, copy\u001b[39m=\u001b[39mcopy)\n",
      "\u001b[1;31mValueError\u001b[0m: invalid literal for int() with base 10: '????'"
     ]
    }
   ],
   "source": [
    "mainfile['Totall'].astype(np.int64)"
   ]
  },
  {
   "cell_type": "code",
   "execution_count": 7,
   "metadata": {},
   "outputs": [
    {
     "data": {
      "text/html": [
       "<div>\n",
       "<style scoped>\n",
       "    .dataframe tbody tr th:only-of-type {\n",
       "        vertical-align: middle;\n",
       "    }\n",
       "\n",
       "    .dataframe tbody tr th {\n",
       "        vertical-align: top;\n",
       "    }\n",
       "\n",
       "    .dataframe thead th {\n",
       "        text-align: right;\n",
       "    }\n",
       "</style>\n",
       "<table border=\"1\" class=\"dataframe\">\n",
       "  <thead>\n",
       "    <tr style=\"text-align: right;\">\n",
       "      <th></th>\n",
       "      <th>District</th>\n",
       "      <th>Male</th>\n",
       "      <th>Female</th>\n",
       "      <th>Third Gender</th>\n",
       "      <th>Totall</th>\n",
       "    </tr>\n",
       "  </thead>\n",
       "  <tbody>\n",
       "    <tr>\n",
       "      <th>27</th>\n",
       "      <td>Jajarkot</td>\n",
       "      <td>42410</td>\n",
       "      <td>36536</td>\n",
       "      <td>1</td>\n",
       "      <td>????</td>\n",
       "    </tr>\n",
       "    <tr>\n",
       "      <th>28</th>\n",
       "      <td>Jajarkot</td>\n",
       "      <td>42410</td>\n",
       "      <td>36536</td>\n",
       "      <td>1</td>\n",
       "      <td>????</td>\n",
       "    </tr>\n",
       "    <tr>\n",
       "      <th>29</th>\n",
       "      <td>Jajarkot</td>\n",
       "      <td>42410</td>\n",
       "      <td>36536</td>\n",
       "      <td>1</td>\n",
       "      <td>????</td>\n",
       "    </tr>\n",
       "  </tbody>\n",
       "</table>\n",
       "</div>"
      ],
      "text/plain": [
       "    District   Male  Female  Third Gender Totall\n",
       "27  Jajarkot  42410   36536             1   ????\n",
       "28  Jajarkot  42410   36536             1   ????\n",
       "29  Jajarkot  42410   36536             1   ????"
      ]
     },
     "execution_count": 7,
     "metadata": {},
     "output_type": "execute_result"
    }
   ],
   "source": [
    "mainfile.loc[mainfile['Totall'] == '????']"
   ]
  },
  {
   "cell_type": "code",
   "execution_count": 8,
   "metadata": {},
   "outputs": [
    {
     "data": {
      "text/html": [
       "<div>\n",
       "<style scoped>\n",
       "    .dataframe tbody tr th:only-of-type {\n",
       "        vertical-align: middle;\n",
       "    }\n",
       "\n",
       "    .dataframe tbody tr th {\n",
       "        vertical-align: top;\n",
       "    }\n",
       "\n",
       "    .dataframe thead th {\n",
       "        text-align: right;\n",
       "    }\n",
       "</style>\n",
       "<table border=\"1\" class=\"dataframe\">\n",
       "  <thead>\n",
       "    <tr style=\"text-align: right;\">\n",
       "      <th></th>\n",
       "      <th>District</th>\n",
       "      <th>Male</th>\n",
       "      <th>Female</th>\n",
       "      <th>Third Gender</th>\n",
       "      <th>Totall</th>\n",
       "    </tr>\n",
       "  </thead>\n",
       "  <tbody>\n",
       "    <tr>\n",
       "      <th>27</th>\n",
       "      <td>Jajarkot</td>\n",
       "      <td>42410</td>\n",
       "      <td>36536</td>\n",
       "      <td>1</td>\n",
       "      <td>????</td>\n",
       "    </tr>\n",
       "    <tr>\n",
       "      <th>28</th>\n",
       "      <td>Jajarkot</td>\n",
       "      <td>42410</td>\n",
       "      <td>36536</td>\n",
       "      <td>1</td>\n",
       "      <td>????</td>\n",
       "    </tr>\n",
       "    <tr>\n",
       "      <th>29</th>\n",
       "      <td>Jajarkot</td>\n",
       "      <td>42410</td>\n",
       "      <td>36536</td>\n",
       "      <td>1</td>\n",
       "      <td>????</td>\n",
       "    </tr>\n",
       "  </tbody>\n",
       "</table>\n",
       "</div>"
      ],
      "text/plain": [
       "    District   Male  Female  Third Gender Totall\n",
       "27  Jajarkot  42410   36536             1   ????\n",
       "28  Jajarkot  42410   36536             1   ????\n",
       "29  Jajarkot  42410   36536             1   ????"
      ]
     },
     "execution_count": 8,
     "metadata": {},
     "output_type": "execute_result"
    }
   ],
   "source": [
    "mainfile.loc[mainfile['Totall'] == '????']"
   ]
  },
  {
   "cell_type": "code",
   "execution_count": 9,
   "metadata": {},
   "outputs": [
    {
     "data": {
      "text/html": [
       "<div>\n",
       "<style scoped>\n",
       "    .dataframe tbody tr th:only-of-type {\n",
       "        vertical-align: middle;\n",
       "    }\n",
       "\n",
       "    .dataframe tbody tr th {\n",
       "        vertical-align: top;\n",
       "    }\n",
       "\n",
       "    .dataframe thead th {\n",
       "        text-align: right;\n",
       "    }\n",
       "</style>\n",
       "<table border=\"1\" class=\"dataframe\">\n",
       "  <thead>\n",
       "    <tr style=\"text-align: right;\">\n",
       "      <th></th>\n",
       "      <th>District</th>\n",
       "      <th>Male</th>\n",
       "      <th>Female</th>\n",
       "      <th>Third Gender</th>\n",
       "      <th>Totall</th>\n",
       "    </tr>\n",
       "  </thead>\n",
       "  <tbody>\n",
       "    <tr>\n",
       "      <th>0</th>\n",
       "      <td>Achham</td>\n",
       "      <td>60441</td>\n",
       "      <td>67299</td>\n",
       "      <td>2</td>\n",
       "      <td>127742</td>\n",
       "    </tr>\n",
       "    <tr>\n",
       "      <th>1</th>\n",
       "      <td>Arghakhanchi</td>\n",
       "      <td>60296</td>\n",
       "      <td>66403</td>\n",
       "      <td>0</td>\n",
       "      <td>126699</td>\n",
       "    </tr>\n",
       "    <tr>\n",
       "      <th>2</th>\n",
       "      <td>Baglung</td>\n",
       "      <td>73963</td>\n",
       "      <td>82839</td>\n",
       "      <td>0</td>\n",
       "      <td>156802</td>\n",
       "    </tr>\n",
       "    <tr>\n",
       "      <th>3</th>\n",
       "      <td>Baitadi</td>\n",
       "      <td>60227</td>\n",
       "      <td>64596</td>\n",
       "      <td>1</td>\n",
       "      <td>124824</td>\n",
       "    </tr>\n",
       "    <tr>\n",
       "      <th>4</th>\n",
       "      <td>Bajhang</td>\n",
       "      <td>47888</td>\n",
       "      <td>49721</td>\n",
       "      <td>1</td>\n",
       "      <td>97610</td>\n",
       "    </tr>\n",
       "    <tr>\n",
       "      <th>...</th>\n",
       "      <td>...</td>\n",
       "      <td>...</td>\n",
       "      <td>...</td>\n",
       "      <td>...</td>\n",
       "      <td>...</td>\n",
       "    </tr>\n",
       "    <tr>\n",
       "      <th>75</th>\n",
       "      <td>Tanahu</td>\n",
       "      <td>90144</td>\n",
       "      <td>3104327</td>\n",
       "      <td>0</td>\n",
       "      <td>194471</td>\n",
       "    </tr>\n",
       "    <tr>\n",
       "      <th>76</th>\n",
       "      <td>Taplejung</td>\n",
       "      <td>37187</td>\n",
       "      <td>33591</td>\n",
       "      <td>0</td>\n",
       "      <td>70778</td>\n",
       "    </tr>\n",
       "    <tr>\n",
       "      <th>77</th>\n",
       "      <td>Terhathum</td>\n",
       "      <td>30334</td>\n",
       "      <td>30370</td>\n",
       "      <td>0</td>\n",
       "      <td>60704</td>\n",
       "    </tr>\n",
       "    <tr>\n",
       "      <th>78</th>\n",
       "      <td>Udayapur</td>\n",
       "      <td>88510</td>\n",
       "      <td>86951</td>\n",
       "      <td>0</td>\n",
       "      <td>175461</td>\n",
       "    </tr>\n",
       "    <tr>\n",
       "      <th>79</th>\n",
       "      <td>Total</td>\n",
       "      <td>7069714</td>\n",
       "      <td>6984625</td>\n",
       "      <td>143</td>\n",
       "      <td>14054482</td>\n",
       "    </tr>\n",
       "  </tbody>\n",
       "</table>\n",
       "<p>78 rows × 5 columns</p>\n",
       "</div>"
      ],
      "text/plain": [
       "        District     Male   Female  Third Gender    Totall\n",
       "0         Achham    60441    67299             2    127742\n",
       "1   Arghakhanchi    60296    66403             0    126699\n",
       "2        Baglung    73963    82839             0    156802\n",
       "3        Baitadi    60227    64596             1    124824\n",
       "4        Bajhang    47888    49721             1     97610\n",
       "..           ...      ...      ...           ...       ...\n",
       "75        Tanahu    90144  3104327             0    194471\n",
       "76     Taplejung    37187    33591             0     70778\n",
       "77     Terhathum    30334    30370             0     60704\n",
       "78      Udayapur    88510    86951             0    175461\n",
       "79         Total  7069714  6984625           143  14054482\n",
       "\n",
       "[78 rows x 5 columns]"
      ]
     },
     "execution_count": 9,
     "metadata": {},
     "output_type": "execute_result"
    }
   ],
   "source": [
    "mainfile.drop([28, 29])"
   ]
  },
  {
   "cell_type": "code",
   "execution_count": 10,
   "metadata": {},
   "outputs": [],
   "source": [
    "mainfile.drop([28,29], axis=0, inplace=True)"
   ]
  },
  {
   "cell_type": "code",
   "execution_count": 11,
   "metadata": {},
   "outputs": [
    {
     "data": {
      "text/html": [
       "<div>\n",
       "<style scoped>\n",
       "    .dataframe tbody tr th:only-of-type {\n",
       "        vertical-align: middle;\n",
       "    }\n",
       "\n",
       "    .dataframe tbody tr th {\n",
       "        vertical-align: top;\n",
       "    }\n",
       "\n",
       "    .dataframe thead th {\n",
       "        text-align: right;\n",
       "    }\n",
       "</style>\n",
       "<table border=\"1\" class=\"dataframe\">\n",
       "  <thead>\n",
       "    <tr style=\"text-align: right;\">\n",
       "      <th></th>\n",
       "      <th>District</th>\n",
       "      <th>Male</th>\n",
       "      <th>Female</th>\n",
       "      <th>Third Gender</th>\n",
       "      <th>Totall</th>\n",
       "    </tr>\n",
       "  </thead>\n",
       "  <tbody>\n",
       "    <tr>\n",
       "      <th>27</th>\n",
       "      <td>Jajarkot</td>\n",
       "      <td>42410</td>\n",
       "      <td>36536</td>\n",
       "      <td>1</td>\n",
       "      <td>????</td>\n",
       "    </tr>\n",
       "  </tbody>\n",
       "</table>\n",
       "</div>"
      ],
      "text/plain": [
       "    District   Male  Female  Third Gender Totall\n",
       "27  Jajarkot  42410   36536             1   ????"
      ]
     },
     "execution_count": 11,
     "metadata": {},
     "output_type": "execute_result"
    }
   ],
   "source": [
    "mainfile.loc[mainfile['Totall'] == '????']"
   ]
  },
  {
   "cell_type": "code",
   "execution_count": 12,
   "metadata": {},
   "outputs": [],
   "source": [
    "maleja=mainfile.iat[27,1]\n",
    "femaleja=mainfile.iat[27,2]\n",
    "thirdja=mainfile.iat[27,3]\n",
    "totalja=maleja+femaleja+thirdja\n",
    "\n",
    "mainfile['Totall'] = mainfile['Totall'].replace(['????'], totalja)"
   ]
  },
  {
   "cell_type": "code",
   "execution_count": 13,
   "metadata": {},
   "outputs": [
    {
     "data": {
      "text/html": [
       "<div>\n",
       "<style scoped>\n",
       "    .dataframe tbody tr th:only-of-type {\n",
       "        vertical-align: middle;\n",
       "    }\n",
       "\n",
       "    .dataframe tbody tr th {\n",
       "        vertical-align: top;\n",
       "    }\n",
       "\n",
       "    .dataframe thead th {\n",
       "        text-align: right;\n",
       "    }\n",
       "</style>\n",
       "<table border=\"1\" class=\"dataframe\">\n",
       "  <thead>\n",
       "    <tr style=\"text-align: right;\">\n",
       "      <th></th>\n",
       "      <th>District</th>\n",
       "      <th>Male</th>\n",
       "      <th>Female</th>\n",
       "      <th>Third Gender</th>\n",
       "      <th>Totall</th>\n",
       "    </tr>\n",
       "  </thead>\n",
       "  <tbody>\n",
       "  </tbody>\n",
       "</table>\n",
       "</div>"
      ],
      "text/plain": [
       "Empty DataFrame\n",
       "Columns: [District, Male, Female, Third Gender, Totall]\n",
       "Index: []"
      ]
     },
     "execution_count": 13,
     "metadata": {},
     "output_type": "execute_result"
    }
   ],
   "source": [
    "mainfile.loc[mainfile['Totall'] == '????']"
   ]
  },
  {
   "cell_type": "code",
   "execution_count": 14,
   "metadata": {},
   "outputs": [],
   "source": [
    "mainfile2=mainfile[\"Totall\"].astype(np.int64)"
   ]
  },
  {
   "cell_type": "code",
   "execution_count": 15,
   "metadata": {},
   "outputs": [
    {
     "data": {
      "text/plain": [
       "0       127742\n",
       "1       126699\n",
       "2       156802\n",
       "3       124824\n",
       "4        97610\n",
       "        ...   \n",
       "75      194471\n",
       "76       70778\n",
       "77       60704\n",
       "78      175461\n",
       "79    14054482\n",
       "Name: Totall, Length: 78, dtype: int64"
      ]
     },
     "execution_count": 15,
     "metadata": {},
     "output_type": "execute_result"
    }
   ],
   "source": [
    "mainfile2"
   ]
  },
  {
   "cell_type": "code",
   "execution_count": 17,
   "metadata": {},
   "outputs": [],
   "source": [
    "mainfile['Totall']=pd.to_numeric(mainfile['Totall'])"
   ]
  },
  {
   "cell_type": "code",
   "execution_count": 51,
   "metadata": {},
   "outputs": [
    {
     "data": {
      "text/plain": [
       "District        object\n",
       "Male             int64\n",
       "Female           int64\n",
       "Third Gender     int64\n",
       "Totall           int64\n",
       "dtype: object"
      ]
     },
     "execution_count": 51,
     "metadata": {},
     "output_type": "execute_result"
    }
   ],
   "source": [
    "mainfile.dtypes"
   ]
  },
  {
   "cell_type": "code",
   "execution_count": 20,
   "metadata": {},
   "outputs": [
    {
     "data": {
      "text/html": [
       "<div>\n",
       "<style scoped>\n",
       "    .dataframe tbody tr th:only-of-type {\n",
       "        vertical-align: middle;\n",
       "    }\n",
       "\n",
       "    .dataframe tbody tr th {\n",
       "        vertical-align: top;\n",
       "    }\n",
       "\n",
       "    .dataframe thead th {\n",
       "        text-align: right;\n",
       "    }\n",
       "</style>\n",
       "<table border=\"1\" class=\"dataframe\">\n",
       "  <thead>\n",
       "    <tr style=\"text-align: right;\">\n",
       "      <th></th>\n",
       "      <th>District</th>\n",
       "      <th>Male</th>\n",
       "      <th>Female</th>\n",
       "      <th>Third Gender</th>\n",
       "      <th>Totall</th>\n",
       "    </tr>\n",
       "  </thead>\n",
       "  <tbody>\n",
       "    <tr>\n",
       "      <th>15</th>\n",
       "      <td>Tanahu</td>\n",
       "      <td>90144</td>\n",
       "      <td>3104327</td>\n",
       "      <td>0</td>\n",
       "      <td>194471</td>\n",
       "    </tr>\n",
       "    <tr>\n",
       "      <th>49</th>\n",
       "      <td>Nawalparasi (East)</td>\n",
       "      <td>682596</td>\n",
       "      <td>68584</td>\n",
       "      <td>1</td>\n",
       "      <td>131181</td>\n",
       "    </tr>\n",
       "    <tr>\n",
       "      <th>50</th>\n",
       "      <td>Nawalparasi (East)</td>\n",
       "      <td>80316</td>\n",
       "      <td>89570</td>\n",
       "      <td>4</td>\n",
       "      <td>2212111</td>\n",
       "    </tr>\n",
       "    <tr>\n",
       "      <th>75</th>\n",
       "      <td>Tanahu</td>\n",
       "      <td>90144</td>\n",
       "      <td>3104327</td>\n",
       "      <td>0</td>\n",
       "      <td>194471</td>\n",
       "    </tr>\n",
       "  </tbody>\n",
       "</table>\n",
       "</div>"
      ],
      "text/plain": [
       "              District    Male   Female  Third Gender   Totall\n",
       "15              Tanahu   90144  3104327             0   194471\n",
       "49  Nawalparasi (East)  682596    68584             1   131181\n",
       "50  Nawalparasi (East)   80316    89570             4  2212111\n",
       "75              Tanahu   90144  3104327             0   194471"
      ]
     },
     "execution_count": 20,
     "metadata": {},
     "output_type": "execute_result"
    }
   ],
   "source": [
    "mainfile[mainfile.duplicated(['District'], keep=False)]"
   ]
  },
  {
   "cell_type": "code",
   "execution_count": 21,
   "metadata": {},
   "outputs": [],
   "source": [
    "mainfile.drop([15], axis=0, inplace=True)"
   ]
  },
  {
   "cell_type": "code",
   "execution_count": 22,
   "metadata": {},
   "outputs": [
    {
     "data": {
      "text/html": [
       "<div>\n",
       "<style scoped>\n",
       "    .dataframe tbody tr th:only-of-type {\n",
       "        vertical-align: middle;\n",
       "    }\n",
       "\n",
       "    .dataframe tbody tr th {\n",
       "        vertical-align: top;\n",
       "    }\n",
       "\n",
       "    .dataframe thead th {\n",
       "        text-align: right;\n",
       "    }\n",
       "</style>\n",
       "<table border=\"1\" class=\"dataframe\">\n",
       "  <thead>\n",
       "    <tr style=\"text-align: right;\">\n",
       "      <th></th>\n",
       "      <th>District</th>\n",
       "      <th>Male</th>\n",
       "      <th>Female</th>\n",
       "      <th>Third Gender</th>\n",
       "      <th>Totall</th>\n",
       "    </tr>\n",
       "  </thead>\n",
       "  <tbody>\n",
       "    <tr>\n",
       "      <th>49</th>\n",
       "      <td>Nawalparasi (East)</td>\n",
       "      <td>682596</td>\n",
       "      <td>68584</td>\n",
       "      <td>1</td>\n",
       "      <td>131181</td>\n",
       "    </tr>\n",
       "    <tr>\n",
       "      <th>50</th>\n",
       "      <td>Nawalparasi (East)</td>\n",
       "      <td>80316</td>\n",
       "      <td>89570</td>\n",
       "      <td>4</td>\n",
       "      <td>2212111</td>\n",
       "    </tr>\n",
       "  </tbody>\n",
       "</table>\n",
       "</div>"
      ],
      "text/plain": [
       "              District    Male  Female  Third Gender   Totall\n",
       "49  Nawalparasi (East)  682596   68584             1   131181\n",
       "50  Nawalparasi (East)   80316   89570             4  2212111"
      ]
     },
     "execution_count": 22,
     "metadata": {},
     "output_type": "execute_result"
    }
   ],
   "source": [
    "mainfile[mainfile.duplicated(['District'], keep=False)]"
   ]
  },
  {
   "cell_type": "code",
   "execution_count": 23,
   "metadata": {},
   "outputs": [
    {
     "ename": "NameError",
     "evalue": "name 'i' is not defined",
     "output_type": "error",
     "traceback": [
      "\u001b[1;31m---------------------------------------------------------------------------\u001b[0m",
      "\u001b[1;31mNameError\u001b[0m                                 Traceback (most recent call last)",
      "Cell \u001b[1;32mIn [23], line 1\u001b[0m\n\u001b[1;32m----> 1\u001b[0m mainfile\u001b[39m.\u001b[39miat[i,\u001b[39m1\u001b[39m]\u001b[39m+\u001b[39mmainfile\u001b[39m.\u001b[39miat[i,\u001b[39m2\u001b[39m]\u001b[39m+\u001b[39mmainfile\u001b[39m.\u001b[39miat[i,\u001b[39m3\u001b[39m] \u001b[39m!=\u001b[39m mainfile\u001b[39m.\u001b[39miat[i,\u001b[39m4\u001b[39m]\n",
      "\u001b[1;31mNameError\u001b[0m: name 'i' is not defined"
     ]
    }
   ],
   "source": [
    "mainfile.iat[i,1]+mainfile.iat[i,2]+mainfile.iat[i,3] != mainfile.iat[i,4]"
   ]
  },
  {
   "cell_type": "code",
   "execution_count": 63,
   "metadata": {},
   "outputs": [
    {
     "data": {
      "text/html": [
       "<div>\n",
       "<style scoped>\n",
       "    .dataframe tbody tr th:only-of-type {\n",
       "        vertical-align: middle;\n",
       "    }\n",
       "\n",
       "    .dataframe tbody tr th {\n",
       "        vertical-align: top;\n",
       "    }\n",
       "\n",
       "    .dataframe thead th {\n",
       "        text-align: right;\n",
       "    }\n",
       "</style>\n",
       "<table border=\"1\" class=\"dataframe\">\n",
       "  <thead>\n",
       "    <tr style=\"text-align: right;\">\n",
       "      <th></th>\n",
       "      <th>District</th>\n",
       "      <th>Male</th>\n",
       "      <th>Female</th>\n",
       "      <th>Third Gender</th>\n",
       "      <th>Totall</th>\n",
       "    </tr>\n",
       "  </thead>\n",
       "  <tbody>\n",
       "    <tr>\n",
       "      <th>24</th>\n",
       "      <td>Gulmi</td>\n",
       "      <td>12696</td>\n",
       "      <td>94759</td>\n",
       "      <td>1</td>\n",
       "      <td>180775</td>\n",
       "    </tr>\n",
       "    <tr>\n",
       "      <th>33</th>\n",
       "      <td>Kalikot</td>\n",
       "      <td>31668</td>\n",
       "      <td>293360</td>\n",
       "      <td>0</td>\n",
       "      <td>61028</td>\n",
       "    </tr>\n",
       "    <tr>\n",
       "      <th>49</th>\n",
       "      <td>Nawalparasi (East)</td>\n",
       "      <td>682596</td>\n",
       "      <td>68584</td>\n",
       "      <td>1</td>\n",
       "      <td>131181</td>\n",
       "    </tr>\n",
       "    <tr>\n",
       "      <th>50</th>\n",
       "      <td>Nawalparasi (East)</td>\n",
       "      <td>80316</td>\n",
       "      <td>89570</td>\n",
       "      <td>4</td>\n",
       "      <td>2212111</td>\n",
       "    </tr>\n",
       "    <tr>\n",
       "      <th>55</th>\n",
       "      <td>Parbat</td>\n",
       "      <td>47354</td>\n",
       "      <td>51889</td>\n",
       "      <td>0</td>\n",
       "      <td>99</td>\n",
       "    </tr>\n",
       "    <tr>\n",
       "      <th>75</th>\n",
       "      <td>Tanahu</td>\n",
       "      <td>90144</td>\n",
       "      <td>3104327</td>\n",
       "      <td>0</td>\n",
       "      <td>194471</td>\n",
       "    </tr>\n",
       "  </tbody>\n",
       "</table>\n",
       "</div>"
      ],
      "text/plain": [
       "              District    Male   Female  Third Gender   Totall\n",
       "24               Gulmi   12696    94759             1   180775\n",
       "33             Kalikot   31668   293360             0    61028\n",
       "49  Nawalparasi (East)  682596    68584             1   131181\n",
       "50  Nawalparasi (East)   80316    89570             4  2212111\n",
       "55              Parbat   47354    51889             0       99\n",
       "75              Tanahu   90144  3104327             0   194471"
      ]
     },
     "execution_count": 63,
     "metadata": {},
     "output_type": "execute_result"
    }
   ],
   "source": [
    "mainfile.loc[mainfile['Male']+mainfile['Female']+mainfile['Third Gender']!=mainfile['Totall']]"
   ]
  },
  {
   "cell_type": "code",
   "execution_count": 57,
   "metadata": {},
   "outputs": [],
   "source": [
    "totalgulmi=mainfile.loc[24],[4]\n",
    "femalegulmi=mainfile.loc[24],[2]\n",
    "thirdgulmi=mainfile.loc[24],[3]\n",
    "\n"
   ]
  },
  {
   "cell_type": "code",
   "execution_count": 39,
   "metadata": {},
   "outputs": [
    {
     "name": "stdout",
     "output_type": "stream",
     "text": [
      "94759\n"
     ]
    }
   ],
   "source": [
    "print(mainfile.loc[24][2])"
   ]
  },
  {
   "cell_type": "code",
   "execution_count": null,
   "metadata": {},
   "outputs": [],
   "source": []
  },
  {
   "cell_type": "code",
   "execution_count": 62,
   "metadata": {},
   "outputs": [
    {
     "name": "stderr",
     "output_type": "stream",
     "text": [
      "C:\\Users\\Sandesh\\AppData\\Local\\Temp\\ipykernel_15752\\579793711.py:3: SettingWithCopyWarning: \n",
      "A value is trying to be set on a copy of a slice from a DataFrame\n",
      "\n",
      "See the caveats in the documentation: https://pandas.pydata.org/pandas-docs/stable/user_guide/indexing.html#returning-a-view-versus-a-copy\n",
      "  mainfile['Female'].loc[47] = mainfile['Totall'].loc[47] - mainfile['Male'].loc[47]-mainfile['Third Gender'].loc[47]\n"
     ]
    }
   ],
   "source": [
    "# malegulmi = tuple(map(lambda i, j: i - j, totalgulmi,femalegulmi,))\n",
    "\n",
    "mainfile['Female'].loc[47] = mainfile['Totall'].loc[47] - mainfile['Male'].loc[47]-mainfile['Third Gender'].loc[47]"
   ]
  },
  {
   "cell_type": "code",
   "execution_count": 70,
   "metadata": {},
   "outputs": [
    {
     "data": {
      "text/html": [
       "<div>\n",
       "<style scoped>\n",
       "    .dataframe tbody tr th:only-of-type {\n",
       "        vertical-align: middle;\n",
       "    }\n",
       "\n",
       "    .dataframe tbody tr th {\n",
       "        vertical-align: top;\n",
       "    }\n",
       "\n",
       "    .dataframe thead th {\n",
       "        text-align: right;\n",
       "    }\n",
       "</style>\n",
       "<table border=\"1\" class=\"dataframe\">\n",
       "  <thead>\n",
       "    <tr style=\"text-align: right;\">\n",
       "      <th></th>\n",
       "      <th>District</th>\n",
       "      <th>Male</th>\n",
       "      <th>Female</th>\n",
       "      <th>Third Gender</th>\n",
       "      <th>Totall</th>\n",
       "    </tr>\n",
       "  </thead>\n",
       "  <tbody>\n",
       "    <tr>\n",
       "      <th>49</th>\n",
       "      <td>Nawalparasi (East)</td>\n",
       "      <td>682596</td>\n",
       "      <td>68584</td>\n",
       "      <td>1</td>\n",
       "      <td>131181</td>\n",
       "    </tr>\n",
       "    <tr>\n",
       "      <th>50</th>\n",
       "      <td>Nawalparasi (East)</td>\n",
       "      <td>80316</td>\n",
       "      <td>89570</td>\n",
       "      <td>4</td>\n",
       "      <td>2212111</td>\n",
       "    </tr>\n",
       "    <tr>\n",
       "      <th>55</th>\n",
       "      <td>Parbat</td>\n",
       "      <td>47354</td>\n",
       "      <td>51889</td>\n",
       "      <td>0</td>\n",
       "      <td>99</td>\n",
       "    </tr>\n",
       "    <tr>\n",
       "      <th>75</th>\n",
       "      <td>Tanahu</td>\n",
       "      <td>90144</td>\n",
       "      <td>3104327</td>\n",
       "      <td>0</td>\n",
       "      <td>194471</td>\n",
       "    </tr>\n",
       "  </tbody>\n",
       "</table>\n",
       "</div>"
      ],
      "text/plain": [
       "              District    Male   Female  Third Gender   Totall\n",
       "49  Nawalparasi (East)  682596    68584             1   131181\n",
       "50  Nawalparasi (East)   80316    89570             4  2212111\n",
       "55              Parbat   47354    51889             0       99\n",
       "75              Tanahu   90144  3104327             0   194471"
      ]
     },
     "execution_count": 70,
     "metadata": {},
     "output_type": "execute_result"
    }
   ],
   "source": [
    "mainfile.loc[mainfile['Male']+mainfile['Female']+mainfile['Third Gender']!=mainfile['Totall']]"
   ]
  },
  {
   "cell_type": "code",
   "execution_count": 67,
   "metadata": {},
   "outputs": [
    {
     "name": "stderr",
     "output_type": "stream",
     "text": [
      "C:\\Users\\Sandesh\\AppData\\Local\\Temp\\ipykernel_15752\\2842057209.py:1: SettingWithCopyWarning: \n",
      "A value is trying to be set on a copy of a slice from a DataFrame\n",
      "\n",
      "See the caveats in the documentation: https://pandas.pydata.org/pandas-docs/stable/user_guide/indexing.html#returning-a-view-versus-a-copy\n",
      "  mainfile['Male'].loc[24] = mainfile['Totall'].loc[24] - mainfile['Female'].loc[24]-mainfile['Third Gender'].loc[24]\n"
     ]
    }
   ],
   "source": [
    "mainfile['Male'].loc[24] = mainfile['Totall'].loc[24] - mainfile['Female'].loc[24]-mainfile['Third Gender'].loc[24]"
   ]
  },
  {
   "cell_type": "code",
   "execution_count": 69,
   "metadata": {},
   "outputs": [
    {
     "name": "stderr",
     "output_type": "stream",
     "text": [
      "C:\\Users\\Sandesh\\AppData\\Local\\Temp\\ipykernel_15752\\3197542258.py:1: SettingWithCopyWarning: \n",
      "A value is trying to be set on a copy of a slice from a DataFrame\n",
      "\n",
      "See the caveats in the documentation: https://pandas.pydata.org/pandas-docs/stable/user_guide/indexing.html#returning-a-view-versus-a-copy\n",
      "  mainfile['Totall'].loc[33] = mainfile['Male'].loc[33] + mainfile['Female'].loc[33] + mainfile['Third Gender'].loc[33]\n"
     ]
    }
   ],
   "source": [
    "mainfile['Totall'].loc[33] = mainfile['Male'].loc[33] + mainfile['Female'].loc[33] + mainfile['Third Gender'].loc[33]"
   ]
  },
  {
   "cell_type": "code",
   "execution_count": 71,
   "metadata": {},
   "outputs": [
    {
     "data": {
      "text/html": [
       "<div>\n",
       "<style scoped>\n",
       "    .dataframe tbody tr th:only-of-type {\n",
       "        vertical-align: middle;\n",
       "    }\n",
       "\n",
       "    .dataframe tbody tr th {\n",
       "        vertical-align: top;\n",
       "    }\n",
       "\n",
       "    .dataframe thead th {\n",
       "        text-align: right;\n",
       "    }\n",
       "</style>\n",
       "<table border=\"1\" class=\"dataframe\">\n",
       "  <thead>\n",
       "    <tr style=\"text-align: right;\">\n",
       "      <th></th>\n",
       "      <th>District</th>\n",
       "      <th>Male</th>\n",
       "      <th>Female</th>\n",
       "      <th>Third Gender</th>\n",
       "      <th>Totall</th>\n",
       "    </tr>\n",
       "  </thead>\n",
       "  <tbody>\n",
       "    <tr>\n",
       "      <th>49</th>\n",
       "      <td>Nawalparasi (East)</td>\n",
       "      <td>682596</td>\n",
       "      <td>68584</td>\n",
       "      <td>1</td>\n",
       "      <td>131181</td>\n",
       "    </tr>\n",
       "    <tr>\n",
       "      <th>50</th>\n",
       "      <td>Nawalparasi (East)</td>\n",
       "      <td>80316</td>\n",
       "      <td>89570</td>\n",
       "      <td>4</td>\n",
       "      <td>2212111</td>\n",
       "    </tr>\n",
       "    <tr>\n",
       "      <th>55</th>\n",
       "      <td>Parbat</td>\n",
       "      <td>47354</td>\n",
       "      <td>51889</td>\n",
       "      <td>0</td>\n",
       "      <td>99</td>\n",
       "    </tr>\n",
       "    <tr>\n",
       "      <th>75</th>\n",
       "      <td>Tanahu</td>\n",
       "      <td>90144</td>\n",
       "      <td>3104327</td>\n",
       "      <td>0</td>\n",
       "      <td>194471</td>\n",
       "    </tr>\n",
       "  </tbody>\n",
       "</table>\n",
       "</div>"
      ],
      "text/plain": [
       "              District    Male   Female  Third Gender   Totall\n",
       "49  Nawalparasi (East)  682596    68584             1   131181\n",
       "50  Nawalparasi (East)   80316    89570             4  2212111\n",
       "55              Parbat   47354    51889             0       99\n",
       "75              Tanahu   90144  3104327             0   194471"
      ]
     },
     "execution_count": 71,
     "metadata": {},
     "output_type": "execute_result"
    }
   ],
   "source": [
    "mainfile.loc[mainfile['Male']+mainfile['Female']+mainfile['Third Gender']!=mainfile['Totall']]"
   ]
  },
  {
   "cell_type": "code",
   "execution_count": 72,
   "metadata": {},
   "outputs": [
    {
     "name": "stderr",
     "output_type": "stream",
     "text": [
      "C:\\Users\\Sandesh\\AppData\\Local\\Temp\\ipykernel_15752\\1959419467.py:1: SettingWithCopyWarning: \n",
      "A value is trying to be set on a copy of a slice from a DataFrame\n",
      "\n",
      "See the caveats in the documentation: https://pandas.pydata.org/pandas-docs/stable/user_guide/indexing.html#returning-a-view-versus-a-copy\n",
      "  mainfile['Totall'].loc[55] = mainfile['Male'].loc[55] + mainfile['Female'].loc[55] + mainfile['Third Gender'].loc[55]\n"
     ]
    }
   ],
   "source": [
    "mainfile['Totall'].loc[55] = mainfile['Male'].loc[55] + mainfile['Female'].loc[55] + mainfile['Third Gender'].loc[55]"
   ]
  },
  {
   "cell_type": "code",
   "execution_count": 73,
   "metadata": {},
   "outputs": [
    {
     "name": "stderr",
     "output_type": "stream",
     "text": [
      "C:\\Users\\Sandesh\\AppData\\Local\\Temp\\ipykernel_15752\\2724794669.py:1: SettingWithCopyWarning: \n",
      "A value is trying to be set on a copy of a slice from a DataFrame\n",
      "\n",
      "See the caveats in the documentation: https://pandas.pydata.org/pandas-docs/stable/user_guide/indexing.html#returning-a-view-versus-a-copy\n",
      "  mainfile['Totall'].loc[75] = mainfile['Male'].loc[75] + mainfile['Female'].loc[75] + mainfile['Third Gender'].loc[75]\n"
     ]
    }
   ],
   "source": [
    "mainfile['Totall'].loc[75] = mainfile['Male'].loc[75] + mainfile['Female'].loc[75] + mainfile['Third Gender'].loc[75]"
   ]
  },
  {
   "cell_type": "code",
   "execution_count": 74,
   "metadata": {},
   "outputs": [
    {
     "data": {
      "text/html": [
       "<div>\n",
       "<style scoped>\n",
       "    .dataframe tbody tr th:only-of-type {\n",
       "        vertical-align: middle;\n",
       "    }\n",
       "\n",
       "    .dataframe tbody tr th {\n",
       "        vertical-align: top;\n",
       "    }\n",
       "\n",
       "    .dataframe thead th {\n",
       "        text-align: right;\n",
       "    }\n",
       "</style>\n",
       "<table border=\"1\" class=\"dataframe\">\n",
       "  <thead>\n",
       "    <tr style=\"text-align: right;\">\n",
       "      <th></th>\n",
       "      <th>District</th>\n",
       "      <th>Male</th>\n",
       "      <th>Female</th>\n",
       "      <th>Third Gender</th>\n",
       "      <th>Totall</th>\n",
       "    </tr>\n",
       "  </thead>\n",
       "  <tbody>\n",
       "    <tr>\n",
       "      <th>49</th>\n",
       "      <td>Nawalparasi (East)</td>\n",
       "      <td>682596</td>\n",
       "      <td>68584</td>\n",
       "      <td>1</td>\n",
       "      <td>131181</td>\n",
       "    </tr>\n",
       "    <tr>\n",
       "      <th>50</th>\n",
       "      <td>Nawalparasi (East)</td>\n",
       "      <td>80316</td>\n",
       "      <td>89570</td>\n",
       "      <td>4</td>\n",
       "      <td>2212111</td>\n",
       "    </tr>\n",
       "  </tbody>\n",
       "</table>\n",
       "</div>"
      ],
      "text/plain": [
       "              District    Male  Female  Third Gender   Totall\n",
       "49  Nawalparasi (East)  682596   68584             1   131181\n",
       "50  Nawalparasi (East)   80316   89570             4  2212111"
      ]
     },
     "execution_count": 74,
     "metadata": {},
     "output_type": "execute_result"
    }
   ],
   "source": [
    "mainfile.loc[mainfile['Male']+mainfile['Female']+mainfile['Third Gender']!=mainfile['Totall']]"
   ]
  },
  {
   "cell_type": "code",
   "execution_count": 75,
   "metadata": {},
   "outputs": [
    {
     "name": "stderr",
     "output_type": "stream",
     "text": [
      "C:\\Users\\Sandesh\\AppData\\Local\\Temp\\ipykernel_15752\\1345693481.py:1: SettingWithCopyWarning: \n",
      "A value is trying to be set on a copy of a slice from a DataFrame\n",
      "\n",
      "See the caveats in the documentation: https://pandas.pydata.org/pandas-docs/stable/user_guide/indexing.html#returning-a-view-versus-a-copy\n",
      "  mainfile['Totall'].loc[49] = mainfile['Male'].loc[49] + mainfile['Female'].loc[49] + mainfile['Third Gender'].loc[49]\n"
     ]
    }
   ],
   "source": [
    "mainfile['Totall'].loc[49] = mainfile['Male'].loc[49] + mainfile['Female'].loc[49] + mainfile['Third Gender'].loc[49]"
   ]
  },
  {
   "cell_type": "code",
   "execution_count": 76,
   "metadata": {},
   "outputs": [
    {
     "name": "stderr",
     "output_type": "stream",
     "text": [
      "C:\\Users\\Sandesh\\AppData\\Local\\Temp\\ipykernel_15752\\334392471.py:1: SettingWithCopyWarning: \n",
      "A value is trying to be set on a copy of a slice from a DataFrame\n",
      "\n",
      "See the caveats in the documentation: https://pandas.pydata.org/pandas-docs/stable/user_guide/indexing.html#returning-a-view-versus-a-copy\n",
      "  mainfile['Totall'].loc[50] = mainfile['Male'].loc[50] + mainfile['Female'].loc[50] + mainfile['Third Gender'].loc[50]\n"
     ]
    }
   ],
   "source": [
    "mainfile['Totall'].loc[50] = mainfile['Male'].loc[50] + mainfile['Female'].loc[50] + mainfile['Third Gender'].loc[50]"
   ]
  },
  {
   "cell_type": "code",
   "execution_count": 77,
   "metadata": {},
   "outputs": [
    {
     "data": {
      "text/html": [
       "<div>\n",
       "<style scoped>\n",
       "    .dataframe tbody tr th:only-of-type {\n",
       "        vertical-align: middle;\n",
       "    }\n",
       "\n",
       "    .dataframe tbody tr th {\n",
       "        vertical-align: top;\n",
       "    }\n",
       "\n",
       "    .dataframe thead th {\n",
       "        text-align: right;\n",
       "    }\n",
       "</style>\n",
       "<table border=\"1\" class=\"dataframe\">\n",
       "  <thead>\n",
       "    <tr style=\"text-align: right;\">\n",
       "      <th></th>\n",
       "      <th>District</th>\n",
       "      <th>Male</th>\n",
       "      <th>Female</th>\n",
       "      <th>Third Gender</th>\n",
       "      <th>Totall</th>\n",
       "    </tr>\n",
       "  </thead>\n",
       "  <tbody>\n",
       "  </tbody>\n",
       "</table>\n",
       "</div>"
      ],
      "text/plain": [
       "Empty DataFrame\n",
       "Columns: [District, Male, Female, Third Gender, Totall]\n",
       "Index: []"
      ]
     },
     "execution_count": 77,
     "metadata": {},
     "output_type": "execute_result"
    }
   ],
   "source": [
    "mainfile.loc[mainfile['Male']+mainfile['Female']+mainfile['Third Gender']!=mainfile['Totall']]"
   ]
  },
  {
   "cell_type": "code",
   "execution_count": 78,
   "metadata": {},
   "outputs": [],
   "source": [
    "mainfile.loc[50]=['Nawalparasi (West)',80316,89570,4,169890]"
   ]
  },
  {
   "cell_type": "code",
   "execution_count": 79,
   "metadata": {},
   "outputs": [
    {
     "data": {
      "text/html": [
       "<div>\n",
       "<style scoped>\n",
       "    .dataframe tbody tr th:only-of-type {\n",
       "        vertical-align: middle;\n",
       "    }\n",
       "\n",
       "    .dataframe tbody tr th {\n",
       "        vertical-align: top;\n",
       "    }\n",
       "\n",
       "    .dataframe thead th {\n",
       "        text-align: right;\n",
       "    }\n",
       "</style>\n",
       "<table border=\"1\" class=\"dataframe\">\n",
       "  <thead>\n",
       "    <tr style=\"text-align: right;\">\n",
       "      <th></th>\n",
       "      <th>District</th>\n",
       "      <th>Male</th>\n",
       "      <th>Female</th>\n",
       "      <th>Third Gender</th>\n",
       "      <th>Totall</th>\n",
       "    </tr>\n",
       "  </thead>\n",
       "  <tbody>\n",
       "  </tbody>\n",
       "</table>\n",
       "</div>"
      ],
      "text/plain": [
       "Empty DataFrame\n",
       "Columns: [District, Male, Female, Third Gender, Totall]\n",
       "Index: []"
      ]
     },
     "execution_count": 79,
     "metadata": {},
     "output_type": "execute_result"
    }
   ],
   "source": [
    "mainfile.loc[mainfile['Male']+mainfile['Female']+mainfile['Third Gender']!=mainfile['Totall']]"
   ]
  },
  {
   "cell_type": "code",
   "execution_count": 81,
   "metadata": {},
   "outputs": [
    {
     "data": {
      "text/html": [
       "<div>\n",
       "<style scoped>\n",
       "    .dataframe tbody tr th:only-of-type {\n",
       "        vertical-align: middle;\n",
       "    }\n",
       "\n",
       "    .dataframe tbody tr th {\n",
       "        vertical-align: top;\n",
       "    }\n",
       "\n",
       "    .dataframe thead th {\n",
       "        text-align: right;\n",
       "    }\n",
       "</style>\n",
       "<table border=\"1\" class=\"dataframe\">\n",
       "  <thead>\n",
       "    <tr style=\"text-align: right;\">\n",
       "      <th></th>\n",
       "      <th>District</th>\n",
       "      <th>Male</th>\n",
       "      <th>Female</th>\n",
       "      <th>Third Gender</th>\n",
       "      <th>Totall</th>\n",
       "    </tr>\n",
       "  </thead>\n",
       "  <tbody>\n",
       "    <tr>\n",
       "      <th>0</th>\n",
       "      <td>Achham</td>\n",
       "      <td>60441</td>\n",
       "      <td>67299</td>\n",
       "      <td>2</td>\n",
       "      <td>127742</td>\n",
       "    </tr>\n",
       "    <tr>\n",
       "      <th>1</th>\n",
       "      <td>Arghakhanchi</td>\n",
       "      <td>60296</td>\n",
       "      <td>66403</td>\n",
       "      <td>0</td>\n",
       "      <td>126699</td>\n",
       "    </tr>\n",
       "    <tr>\n",
       "      <th>2</th>\n",
       "      <td>Baglung</td>\n",
       "      <td>73963</td>\n",
       "      <td>82839</td>\n",
       "      <td>0</td>\n",
       "      <td>156802</td>\n",
       "    </tr>\n",
       "    <tr>\n",
       "      <th>3</th>\n",
       "      <td>Baitadi</td>\n",
       "      <td>60227</td>\n",
       "      <td>64596</td>\n",
       "      <td>1</td>\n",
       "      <td>124824</td>\n",
       "    </tr>\n",
       "    <tr>\n",
       "      <th>4</th>\n",
       "      <td>Bajhang</td>\n",
       "      <td>47888</td>\n",
       "      <td>49721</td>\n",
       "      <td>1</td>\n",
       "      <td>97610</td>\n",
       "    </tr>\n",
       "    <tr>\n",
       "      <th>...</th>\n",
       "      <td>...</td>\n",
       "      <td>...</td>\n",
       "      <td>...</td>\n",
       "      <td>...</td>\n",
       "      <td>...</td>\n",
       "    </tr>\n",
       "    <tr>\n",
       "      <th>75</th>\n",
       "      <td>Tanahu</td>\n",
       "      <td>90144</td>\n",
       "      <td>3104327</td>\n",
       "      <td>0</td>\n",
       "      <td>3194471</td>\n",
       "    </tr>\n",
       "    <tr>\n",
       "      <th>76</th>\n",
       "      <td>Taplejung</td>\n",
       "      <td>37187</td>\n",
       "      <td>33591</td>\n",
       "      <td>0</td>\n",
       "      <td>70778</td>\n",
       "    </tr>\n",
       "    <tr>\n",
       "      <th>77</th>\n",
       "      <td>Terhathum</td>\n",
       "      <td>30334</td>\n",
       "      <td>30370</td>\n",
       "      <td>0</td>\n",
       "      <td>60704</td>\n",
       "    </tr>\n",
       "    <tr>\n",
       "      <th>78</th>\n",
       "      <td>Udayapur</td>\n",
       "      <td>88510</td>\n",
       "      <td>86951</td>\n",
       "      <td>0</td>\n",
       "      <td>175461</td>\n",
       "    </tr>\n",
       "    <tr>\n",
       "      <th>79</th>\n",
       "      <td>Total</td>\n",
       "      <td>7069714</td>\n",
       "      <td>6984625</td>\n",
       "      <td>143</td>\n",
       "      <td>14054482</td>\n",
       "    </tr>\n",
       "  </tbody>\n",
       "</table>\n",
       "<p>77 rows × 5 columns</p>\n",
       "</div>"
      ],
      "text/plain": [
       "        District     Male   Female  Third Gender    Totall\n",
       "0         Achham    60441    67299             2    127742\n",
       "1   Arghakhanchi    60296    66403             0    126699\n",
       "2        Baglung    73963    82839             0    156802\n",
       "3        Baitadi    60227    64596             1    124824\n",
       "4        Bajhang    47888    49721             1     97610\n",
       "..           ...      ...      ...           ...       ...\n",
       "75        Tanahu    90144  3104327             0   3194471\n",
       "76     Taplejung    37187    33591             0     70778\n",
       "77     Terhathum    30334    30370             0     60704\n",
       "78      Udayapur    88510    86951             0    175461\n",
       "79         Total  7069714  6984625           143  14054482\n",
       "\n",
       "[77 rows x 5 columns]"
      ]
     },
     "execution_count": 81,
     "metadata": {},
     "output_type": "execute_result"
    }
   ],
   "source": [
    " mainfile\n"
   ]
  },
  {
   "cell_type": "code",
   "execution_count": null,
   "metadata": {},
   "outputs": [],
   "source": []
  }
 ],
 "metadata": {
  "kernelspec": {
   "display_name": "Python 3.10.7 64-bit",
   "language": "python",
   "name": "python3"
  },
  "language_info": {
   "codemirror_mode": {
    "name": "ipython",
    "version": 3
   },
   "file_extension": ".py",
   "mimetype": "text/x-python",
   "name": "python",
   "nbconvert_exporter": "python",
   "pygments_lexer": "ipython3",
   "version": "3.10.7"
  },
  "orig_nbformat": 4,
  "vscode": {
   "interpreter": {
    "hash": "d5a224ff05d0a0b610b5b9d6718e65b19bd94f3393efb343e4eab5137d8d7bd7"
   }
  }
 },
 "nbformat": 4,
 "nbformat_minor": 2
}
